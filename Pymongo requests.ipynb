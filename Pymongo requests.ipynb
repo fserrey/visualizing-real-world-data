{
 "cells": [
  {
   "cell_type": "code",
   "execution_count": 65,
   "metadata": {},
   "outputs": [],
   "source": [
    "import pandas as pd\n",
    "from pymongo import MongoClient\n",
    "from pandas.io.json import json_normalize\n",
    "\n",
    "client = MongoClient('mongodb://localhost:27017/')\n",
    "db = client.companies\n",
    "\n"
   ]
  },
  {
   "cell_type": "code",
   "execution_count": 2,
   "metadata": {},
   "outputs": [
    {
     "name": "stdout",
     "output_type": "stream",
     "text": [
      "(13744, 3)\n"
     ]
    },
    {
     "data": {
      "text/plain": [
       "Index(['_id', 'name', 'offices'], dtype='object')"
      ]
     },
     "execution_count": 2,
     "metadata": {},
     "output_type": "execute_result"
    }
   ],
   "source": [
    "#Starting consuting time on Mongo DB\n",
    "\n",
    "one_office = db.companies.find({    #Companies with at least 1 office\n",
    "    \"offices\":{\n",
    "        \"$not\":{\n",
    "            \"$size\":0\n",
    "        }\n",
    "    }\n",
    "},{\"name\":1, \"offices\":1})\n",
    "\n",
    "one_office_df = pd.DataFrame(one_office)\n",
    "#display(one_office_df)\n",
    "print(one_office_df.shape)\n",
    "one_office_df.columns\n"
   ]
  },
  {
   "cell_type": "code",
   "execution_count": 123,
   "metadata": {},
   "outputs": [],
   "source": [
    "#Filtering with mongo\n",
    " \n",
    "mongodata = db.companies.find( {\"$and\":[\n",
    "                                {\"offices.latitude\": {\"$exists\": True}},\n",
    "                                {\"offices.latitude\": {\"$ne\": None}},   \n",
    "                                {\"offices.longitude\": {\"$exists\": True}},\n",
    "                                {\"offices.longitude\": {\"$ne\": None}},\n",
    "                                {\"category_code\": {\"$exists\": True}},\n",
    "                                {\"category_code\": {\"$ne\": None}},   \n",
    "                                {\"founded_year\": {\"$exists\": True}}, \n",
    "                                {\"founded_year\": {\"$gte\": 2000}},\n",
    "                                {\"total_money_raised\": {\"$exists\": True}},\n",
    "                                {\"total_money_raised\": {\"$not\":{\"$size\":0}}}, \n",
    "                                {\"$or\": [\n",
    "                                {\"total_money_raised\": {\"$gte\": 1000000}},\n",
    "                                {\"category_code\":  \"design\" } ,\n",
    "                                {\"category_code\":  \"nanotech\" } , \n",
    "                                {\"category_code\":  \"web\" } , \n",
    "                                {\"category_code\":  \"software\" } , \n",
    "                                {\"category_code\":  \"games_video\" } , \n",
    "                                {\"category_code\":  \"mobile\" } , \n",
    "                                {\"category_code\":  \"ecommerce\" } ,\n",
    "                                {\"category_code\":  \"advertising\" } ,\n",
    "                                {\"category_code\":  \"enterprise\" } ,   \n",
    "                                {\"category_code\":  \"analytics\" } ,   \n",
    "                                {\"category_code\":  \"photo_video\" } ,   \n",
    "                                {\"category_code\":  \"biotech\" } ]} ,\n",
    "                                      \n",
    "                                ]\n",
    "                                },\n",
    "                                {\n",
    "                               \"_id\": 0, \"category_code\": 1,\"founded_year\": 1, \"name\": 1, \n",
    "                               \"offices.country_code\": 1, \"offices.latitude\": 1, \"offices.longitude\": 1, \n",
    "                                \"total_money_raised\": 1   \n",
    "                                }\n",
    "                            )\n",
    "    \n",
    "    \n",
    "  "
   ]
  },
  {
   "cell_type": "code",
   "execution_count": 4,
   "metadata": {},
   "outputs": [
    {
     "data": {
      "text/plain": [
       "<pymongo.cursor.Cursor at 0x7f46da76b438>"
      ]
     },
     "execution_count": 4,
     "metadata": {},
     "output_type": "execute_result"
    }
   ],
   "source": [
    "mongodata"
   ]
  },
  {
   "cell_type": "code",
   "execution_count": 63,
   "metadata": {},
   "outputs": [],
   "source": [
    "mydataset = db.companies.find({\"$and\": \n",
    "                               [{\"offices.latitude\": {\"$exists\": True}}, \n",
    "                                {\"offices.latitude\": {\"$ne\": None}},\n",
    "                                {\"offices.longitude\": {\"$exists\": True}}, \n",
    "                                {\"offices.longitude\": {\"$ne\": None}},\n",
    "                                {\"category_code\": {\"$exists\": True}}, \n",
    "                                {\"category_code\": {\"$ne\": None}},\n",
    "                                {\"number_of_employees\": {\"$exists\": True}}, \n",
    "                                {\"number_of_employees\": {\"$ne\": None}},\n",
    "                                {\"founded_year\": {\"$exists\": True}}, \n",
    "                                {\"founded_year\": {\"$gte\": 2008}}]}, \n",
    "                              {\"_id\": 0, \"category_code\": 1,\"founded_year\": 1, \"name\": 1, \n",
    "                               \"number_of_employees\": 1, \"offices.country_code\": 1, \n",
    "                               \"offices.latitude\": 1, \"offices.longitude\": 1, \"total_money_raised\": 1})"
   ]
  },
  {
   "cell_type": "code",
   "execution_count": 108,
   "metadata": {},
   "outputs": [
    {
     "data": {
      "text/html": [
       "<div>\n",
       "<style scoped>\n",
       "    .dataframe tbody tr th:only-of-type {\n",
       "        vertical-align: middle;\n",
       "    }\n",
       "\n",
       "    .dataframe tbody tr th {\n",
       "        vertical-align: top;\n",
       "    }\n",
       "\n",
       "    .dataframe thead th {\n",
       "        text-align: right;\n",
       "    }\n",
       "</style>\n",
       "<table border=\"1\" class=\"dataframe\">\n",
       "  <thead>\n",
       "    <tr style=\"text-align: right;\">\n",
       "      <th></th>\n",
       "      <th>category_code</th>\n",
       "      <th>founded_year</th>\n",
       "      <th>name</th>\n",
       "      <th>offices</th>\n",
       "      <th>total_money_raised</th>\n",
       "    </tr>\n",
       "  </thead>\n",
       "  <tbody>\n",
       "    <tr>\n",
       "      <th>0</th>\n",
       "      <td>web</td>\n",
       "      <td>2005</td>\n",
       "      <td>Wetpaint</td>\n",
       "      <td>[{'country_code': 'USA', 'latitude': 47.603122...</td>\n",
       "      <td>$39.8M</td>\n",
       "    </tr>\n",
       "    <tr>\n",
       "      <th>1</th>\n",
       "      <td>software</td>\n",
       "      <td>2005</td>\n",
       "      <td>Zoho</td>\n",
       "      <td>[{'country_code': 'USA', 'latitude': 37.692934...</td>\n",
       "      <td>$0</td>\n",
       "    </tr>\n",
       "    <tr>\n",
       "      <th>2</th>\n",
       "      <td>web</td>\n",
       "      <td>2006</td>\n",
       "      <td>Geni</td>\n",
       "      <td>[{'country_code': 'USA', 'latitude': 34.090368...</td>\n",
       "      <td>$16.5M</td>\n",
       "    </tr>\n",
       "    <tr>\n",
       "      <th>3</th>\n",
       "      <td>web</td>\n",
       "      <td>2003</td>\n",
       "      <td>Gizmoz</td>\n",
       "      <td>[{'country_code': 'USA', 'latitude': 37.48413,...</td>\n",
       "      <td>$18.1M</td>\n",
       "    </tr>\n",
       "    <tr>\n",
       "      <th>4</th>\n",
       "      <td>mobile</td>\n",
       "      <td>2005</td>\n",
       "      <td>Helio</td>\n",
       "      <td>[{'country_code': 'USA', 'latitude': 34.057498...</td>\n",
       "      <td>$0</td>\n",
       "    </tr>\n",
       "  </tbody>\n",
       "</table>\n",
       "</div>"
      ],
      "text/plain": [
       "  category_code  founded_year      name  \\\n",
       "0           web          2005  Wetpaint   \n",
       "1      software          2005      Zoho   \n",
       "2           web          2006      Geni   \n",
       "3           web          2003    Gizmoz   \n",
       "4        mobile          2005     Helio   \n",
       "\n",
       "                                             offices total_money_raised  \n",
       "0  [{'country_code': 'USA', 'latitude': 47.603122...             $39.8M  \n",
       "1  [{'country_code': 'USA', 'latitude': 37.692934...                 $0  \n",
       "2  [{'country_code': 'USA', 'latitude': 34.090368...             $16.5M  \n",
       "3  [{'country_code': 'USA', 'latitude': 37.48413,...             $18.1M  \n",
       "4  [{'country_code': 'USA', 'latitude': 34.057498...                 $0  "
      ]
     },
     "metadata": {},
     "output_type": "display_data"
    }
   ],
   "source": [
    "df = pd.DataFrame(mongodata)\n",
    "display(df.head())"
   ]
  },
  {
   "cell_type": "code",
   "execution_count": 109,
   "metadata": {},
   "outputs": [
    {
     "name": "stdout",
     "output_type": "stream",
     "text": [
      "[{'country_code': 'USA', 'latitude': 47.603122, 'longitude': -122.333253}, {'country_code': 'USA', 'latitude': 40.7237306, 'longitude': -73.9964312}]\n",
      "Wetpaint\n"
     ]
    }
   ],
   "source": [
    "print(df[\"offices\"][0])\n",
    "print(df[\"name\"][0])\n",
    "\n",
    "#def count_offices(data):\n",
    "#    return {\"total_offices\": len(data)}"
   ]
  },
  {
   "cell_type": "code",
   "execution_count": 105,
   "metadata": {},
   "outputs": [],
   "source": [
    "#df = df[[\"offices\"]].apply(count_offices, result_type = \"expand\", axis = 1)"
   ]
  },
  {
   "cell_type": "code",
   "execution_count": 110,
   "metadata": {},
   "outputs": [
    {
     "name": "stdout",
     "output_type": "stream",
     "text": [
      "Index(['category_code', 'founded_year', 'name', 'offices',\n",
      "       'total_money_raised'],\n",
      "      dtype='object')\n"
     ]
    }
   ],
   "source": [
    "print(df.columns)"
   ]
  },
  {
   "cell_type": "code",
   "execution_count": 124,
   "metadata": {},
   "outputs": [],
   "source": [
    "ydataframe = json_normalize(data = mongodata, record_path = \"offices\", \n",
    "                             meta = [\"category_code\", \"founded_year\", \"name\",\n",
    "                                    \"total_money_raised\"])"
   ]
  },
  {
   "cell_type": "code",
   "execution_count": 125,
   "metadata": {},
   "outputs": [
    {
     "data": {
      "text/html": [
       "<div>\n",
       "<style scoped>\n",
       "    .dataframe tbody tr th:only-of-type {\n",
       "        vertical-align: middle;\n",
       "    }\n",
       "\n",
       "    .dataframe tbody tr th {\n",
       "        vertical-align: top;\n",
       "    }\n",
       "\n",
       "    .dataframe thead th {\n",
       "        text-align: right;\n",
       "    }\n",
       "</style>\n",
       "<table border=\"1\" class=\"dataframe\">\n",
       "  <thead>\n",
       "    <tr style=\"text-align: right;\">\n",
       "      <th></th>\n",
       "      <th>country_code</th>\n",
       "      <th>latitude</th>\n",
       "      <th>longitude</th>\n",
       "      <th>category_code</th>\n",
       "      <th>founded_year</th>\n",
       "      <th>name</th>\n",
       "      <th>total_money_raised</th>\n",
       "    </tr>\n",
       "  </thead>\n",
       "  <tbody>\n",
       "    <tr>\n",
       "      <th>0</th>\n",
       "      <td>USA</td>\n",
       "      <td>47.603122</td>\n",
       "      <td>-122.333253</td>\n",
       "      <td>web</td>\n",
       "      <td>2005</td>\n",
       "      <td>Wetpaint</td>\n",
       "      <td>$39.8M</td>\n",
       "    </tr>\n",
       "    <tr>\n",
       "      <th>1</th>\n",
       "      <td>USA</td>\n",
       "      <td>40.723731</td>\n",
       "      <td>-73.996431</td>\n",
       "      <td>web</td>\n",
       "      <td>2005</td>\n",
       "      <td>Wetpaint</td>\n",
       "      <td>$39.8M</td>\n",
       "    </tr>\n",
       "    <tr>\n",
       "      <th>2</th>\n",
       "      <td>USA</td>\n",
       "      <td>37.692934</td>\n",
       "      <td>-121.904945</td>\n",
       "      <td>software</td>\n",
       "      <td>2005</td>\n",
       "      <td>Zoho</td>\n",
       "      <td>$0</td>\n",
       "    </tr>\n",
       "    <tr>\n",
       "      <th>3</th>\n",
       "      <td>USA</td>\n",
       "      <td>34.090368</td>\n",
       "      <td>-118.393064</td>\n",
       "      <td>web</td>\n",
       "      <td>2006</td>\n",
       "      <td>Geni</td>\n",
       "      <td>$16.5M</td>\n",
       "    </tr>\n",
       "    <tr>\n",
       "      <th>4</th>\n",
       "      <td>USA</td>\n",
       "      <td>37.484130</td>\n",
       "      <td>-122.169472</td>\n",
       "      <td>web</td>\n",
       "      <td>2003</td>\n",
       "      <td>Gizmoz</td>\n",
       "      <td>$18.1M</td>\n",
       "    </tr>\n",
       "  </tbody>\n",
       "</table>\n",
       "</div>"
      ],
      "text/plain": [
       "  country_code   latitude   longitude category_code  founded_year      name  \\\n",
       "0          USA  47.603122 -122.333253           web          2005  Wetpaint   \n",
       "1          USA  40.723731  -73.996431           web          2005  Wetpaint   \n",
       "2          USA  37.692934 -121.904945      software          2005      Zoho   \n",
       "3          USA  34.090368 -118.393064           web          2006      Geni   \n",
       "4          USA  37.484130 -122.169472           web          2003    Gizmoz   \n",
       "\n",
       "  total_money_raised  \n",
       "0             $39.8M  \n",
       "1             $39.8M  \n",
       "2                 $0  \n",
       "3             $16.5M  \n",
       "4             $18.1M  "
      ]
     },
     "metadata": {},
     "output_type": "display_data"
    },
    {
     "name": "stdout",
     "output_type": "stream",
     "text": [
      "(4835, 7)\n",
      "Index(['country_code', 'latitude', 'longitude', 'category_code',\n",
      "       'founded_year', 'name', 'total_money_raised'],\n",
      "      dtype='object')\n"
     ]
    }
   ],
   "source": [
    "display(ydataframe.head())\n",
    "print(ydataframe.shape)\n",
    "print(ydataframe.columns)"
   ]
  },
  {
   "cell_type": "code",
   "execution_count": 133,
   "metadata": {},
   "outputs": [],
   "source": [
    "df = ydataframe.reindex(columns=['country_code', 'name', 'founded_year', 'category_code', 'latitude', 'longitude', 'total_money_raised'])"
   ]
  },
  {
   "cell_type": "code",
   "execution_count": 134,
   "metadata": {},
   "outputs": [
    {
     "data": {
      "text/html": [
       "<div>\n",
       "<style scoped>\n",
       "    .dataframe tbody tr th:only-of-type {\n",
       "        vertical-align: middle;\n",
       "    }\n",
       "\n",
       "    .dataframe tbody tr th {\n",
       "        vertical-align: top;\n",
       "    }\n",
       "\n",
       "    .dataframe thead th {\n",
       "        text-align: right;\n",
       "    }\n",
       "</style>\n",
       "<table border=\"1\" class=\"dataframe\">\n",
       "  <thead>\n",
       "    <tr style=\"text-align: right;\">\n",
       "      <th></th>\n",
       "      <th>country_code</th>\n",
       "      <th>name</th>\n",
       "      <th>founded_year</th>\n",
       "      <th>category_code</th>\n",
       "      <th>latitude</th>\n",
       "      <th>longitude</th>\n",
       "      <th>total_money_raised</th>\n",
       "    </tr>\n",
       "  </thead>\n",
       "  <tbody>\n",
       "    <tr>\n",
       "      <th>0</th>\n",
       "      <td>USA</td>\n",
       "      <td>Wetpaint</td>\n",
       "      <td>2005</td>\n",
       "      <td>web</td>\n",
       "      <td>47.603122</td>\n",
       "      <td>-122.333253</td>\n",
       "      <td>$39.8M</td>\n",
       "    </tr>\n",
       "    <tr>\n",
       "      <th>1</th>\n",
       "      <td>USA</td>\n",
       "      <td>Wetpaint</td>\n",
       "      <td>2005</td>\n",
       "      <td>web</td>\n",
       "      <td>40.723731</td>\n",
       "      <td>-73.996431</td>\n",
       "      <td>$39.8M</td>\n",
       "    </tr>\n",
       "    <tr>\n",
       "      <th>2</th>\n",
       "      <td>USA</td>\n",
       "      <td>Zoho</td>\n",
       "      <td>2005</td>\n",
       "      <td>software</td>\n",
       "      <td>37.692934</td>\n",
       "      <td>-121.904945</td>\n",
       "      <td>$0</td>\n",
       "    </tr>\n",
       "    <tr>\n",
       "      <th>3</th>\n",
       "      <td>USA</td>\n",
       "      <td>Geni</td>\n",
       "      <td>2006</td>\n",
       "      <td>web</td>\n",
       "      <td>34.090368</td>\n",
       "      <td>-118.393064</td>\n",
       "      <td>$16.5M</td>\n",
       "    </tr>\n",
       "    <tr>\n",
       "      <th>4</th>\n",
       "      <td>USA</td>\n",
       "      <td>Gizmoz</td>\n",
       "      <td>2003</td>\n",
       "      <td>web</td>\n",
       "      <td>37.484130</td>\n",
       "      <td>-122.169472</td>\n",
       "      <td>$18.1M</td>\n",
       "    </tr>\n",
       "  </tbody>\n",
       "</table>\n",
       "</div>"
      ],
      "text/plain": [
       "  country_code      name  founded_year category_code   latitude   longitude  \\\n",
       "0          USA  Wetpaint          2005           web  47.603122 -122.333253   \n",
       "1          USA  Wetpaint          2005           web  40.723731  -73.996431   \n",
       "2          USA      Zoho          2005      software  37.692934 -121.904945   \n",
       "3          USA      Geni          2006           web  34.090368 -118.393064   \n",
       "4          USA    Gizmoz          2003           web  37.484130 -122.169472   \n",
       "\n",
       "  total_money_raised  \n",
       "0             $39.8M  \n",
       "1             $39.8M  \n",
       "2                 $0  \n",
       "3             $16.5M  \n",
       "4             $18.1M  "
      ]
     },
     "metadata": {},
     "output_type": "display_data"
    }
   ],
   "source": [
    "display(df.head())"
   ]
  },
  {
   "cell_type": "code",
   "execution_count": 138,
   "metadata": {},
   "outputs": [],
   "source": [
    "\n",
    "df[\"total_offices\"] = df[\"name\"].map(df[\"name\"].value_counts())"
   ]
  },
  {
   "cell_type": "code",
   "execution_count": 139,
   "metadata": {},
   "outputs": [
    {
     "data": {
      "text/html": [
       "<div>\n",
       "<style scoped>\n",
       "    .dataframe tbody tr th:only-of-type {\n",
       "        vertical-align: middle;\n",
       "    }\n",
       "\n",
       "    .dataframe tbody tr th {\n",
       "        vertical-align: top;\n",
       "    }\n",
       "\n",
       "    .dataframe thead th {\n",
       "        text-align: right;\n",
       "    }\n",
       "</style>\n",
       "<table border=\"1\" class=\"dataframe\">\n",
       "  <thead>\n",
       "    <tr style=\"text-align: right;\">\n",
       "      <th></th>\n",
       "      <th>country_code</th>\n",
       "      <th>name</th>\n",
       "      <th>founded_year</th>\n",
       "      <th>category_code</th>\n",
       "      <th>latitude</th>\n",
       "      <th>longitude</th>\n",
       "      <th>total_money_raised</th>\n",
       "      <th>total_offices</th>\n",
       "    </tr>\n",
       "  </thead>\n",
       "  <tbody>\n",
       "    <tr>\n",
       "      <th>0</th>\n",
       "      <td>USA</td>\n",
       "      <td>Wetpaint</td>\n",
       "      <td>2005</td>\n",
       "      <td>web</td>\n",
       "      <td>47.603122</td>\n",
       "      <td>-122.333253</td>\n",
       "      <td>$39.8M</td>\n",
       "      <td>2</td>\n",
       "    </tr>\n",
       "    <tr>\n",
       "      <th>1</th>\n",
       "      <td>USA</td>\n",
       "      <td>Wetpaint</td>\n",
       "      <td>2005</td>\n",
       "      <td>web</td>\n",
       "      <td>40.723731</td>\n",
       "      <td>-73.996431</td>\n",
       "      <td>$39.8M</td>\n",
       "      <td>2</td>\n",
       "    </tr>\n",
       "    <tr>\n",
       "      <th>2</th>\n",
       "      <td>USA</td>\n",
       "      <td>Zoho</td>\n",
       "      <td>2005</td>\n",
       "      <td>software</td>\n",
       "      <td>37.692934</td>\n",
       "      <td>-121.904945</td>\n",
       "      <td>$0</td>\n",
       "      <td>1</td>\n",
       "    </tr>\n",
       "    <tr>\n",
       "      <th>3</th>\n",
       "      <td>USA</td>\n",
       "      <td>Geni</td>\n",
       "      <td>2006</td>\n",
       "      <td>web</td>\n",
       "      <td>34.090368</td>\n",
       "      <td>-118.393064</td>\n",
       "      <td>$16.5M</td>\n",
       "      <td>1</td>\n",
       "    </tr>\n",
       "    <tr>\n",
       "      <th>4</th>\n",
       "      <td>USA</td>\n",
       "      <td>Gizmoz</td>\n",
       "      <td>2003</td>\n",
       "      <td>web</td>\n",
       "      <td>37.484130</td>\n",
       "      <td>-122.169472</td>\n",
       "      <td>$18.1M</td>\n",
       "      <td>1</td>\n",
       "    </tr>\n",
       "  </tbody>\n",
       "</table>\n",
       "</div>"
      ],
      "text/plain": [
       "  country_code      name  founded_year category_code   latitude   longitude  \\\n",
       "0          USA  Wetpaint          2005           web  47.603122 -122.333253   \n",
       "1          USA  Wetpaint          2005           web  40.723731  -73.996431   \n",
       "2          USA      Zoho          2005      software  37.692934 -121.904945   \n",
       "3          USA      Geni          2006           web  34.090368 -118.393064   \n",
       "4          USA    Gizmoz          2003           web  37.484130 -122.169472   \n",
       "\n",
       "  total_money_raised  total_offices  \n",
       "0             $39.8M              2  \n",
       "1             $39.8M              2  \n",
       "2                 $0              1  \n",
       "3             $16.5M              1  \n",
       "4             $18.1M              1  "
      ]
     },
     "metadata": {},
     "output_type": "display_data"
    }
   ],
   "source": [
    "display(df.head())"
   ]
  },
  {
   "cell_type": "code",
   "execution_count": 141,
   "metadata": {},
   "outputs": [],
   "source": [
    "def get_offices_locat(data):\n",
    "    if data[\"latitude\"] and data[\"longitude\"]:\n",
    "        offices_locat = {\n",
    "            \"type\":\"Point\",\n",
    "            \"coordinates\":[data[\"longitude\"], data[\"latitude\"]]\n",
    "        }\n",
    "    return {\n",
    "        \"coordinates\": offices_locat\n",
    "    }    \n",
    "\n"
   ]
  },
  {
   "cell_type": "code",
   "execution_count": 71,
   "metadata": {},
   "outputs": [
    {
     "data": {
      "text/html": [
       "<div>\n",
       "<style scoped>\n",
       "    .dataframe tbody tr th:only-of-type {\n",
       "        vertical-align: middle;\n",
       "    }\n",
       "\n",
       "    .dataframe tbody tr th {\n",
       "        vertical-align: top;\n",
       "    }\n",
       "\n",
       "    .dataframe thead th {\n",
       "        text-align: right;\n",
       "    }\n",
       "</style>\n",
       "<table border=\"1\" class=\"dataframe\">\n",
       "  <thead>\n",
       "    <tr style=\"text-align: right;\">\n",
       "      <th></th>\n",
       "    </tr>\n",
       "  </thead>\n",
       "  <tbody>\n",
       "  </tbody>\n",
       "</table>\n",
       "</div>"
      ],
      "text/plain": [
       "Empty DataFrame\n",
       "Columns: []\n",
       "Index: []"
      ]
     },
     "execution_count": 71,
     "metadata": {},
     "output_type": "execute_result"
    }
   ],
   "source": [
    "mydataframe[\"coordinates_longlat\"] = coords_to_geopoints(mydataframe[\"longitude\"], mydataframe[\"latitude\"])\n",
    "mydataframe[\"coordinates_latlong\"] = coords_to_geopoints(mydataframe[\"latitude\"], mydataframe[\"longitude\"])\n",
    "mydataframe[\"coordenadas\"] = coords_to_array(mydataframe[\"longitude\"], mydataframe[\"latitude\"])"
   ]
  },
  {
   "cell_type": "code",
   "execution_count": 7,
   "metadata": {},
   "outputs": [
    {
     "name": "stdout",
     "output_type": "stream",
     "text": [
      "(13744, 4)\n"
     ]
    },
    {
     "data": {
      "text/html": [
       "<div>\n",
       "<style scoped>\n",
       "    .dataframe tbody tr th:only-of-type {\n",
       "        vertical-align: middle;\n",
       "    }\n",
       "\n",
       "    .dataframe tbody tr th {\n",
       "        vertical-align: top;\n",
       "    }\n",
       "\n",
       "    .dataframe thead th {\n",
       "        text-align: right;\n",
       "    }\n",
       "</style>\n",
       "<table border=\"1\" class=\"dataframe\">\n",
       "  <thead>\n",
       "    <tr style=\"text-align: right;\">\n",
       "      <th></th>\n",
       "      <th>lat</th>\n",
       "      <th>lng</th>\n",
       "      <th>oficina_principal</th>\n",
       "      <th>totalOffices</th>\n",
       "    </tr>\n",
       "  </thead>\n",
       "  <tbody>\n",
       "    <tr>\n",
       "      <th>0</th>\n",
       "      <td>37.692934</td>\n",
       "      <td>-121.904945</td>\n",
       "      <td>{'type': 'Point', 'coordinates': [-121.904945,...</td>\n",
       "      <td>1.0</td>\n",
       "    </tr>\n",
       "    <tr>\n",
       "      <th>1</th>\n",
       "      <td>47.603122</td>\n",
       "      <td>-122.333253</td>\n",
       "      <td>{'type': 'Point', 'coordinates': [-122.333253,...</td>\n",
       "      <td>2.0</td>\n",
       "    </tr>\n",
       "    <tr>\n",
       "      <th>2</th>\n",
       "      <td>37.692934</td>\n",
       "      <td>-121.904945</td>\n",
       "      <td>{'type': 'Point', 'coordinates': [-121.904945,...</td>\n",
       "      <td>1.0</td>\n",
       "    </tr>\n",
       "    <tr>\n",
       "      <th>3</th>\n",
       "      <td>NaN</td>\n",
       "      <td>NaN</td>\n",
       "      <td>NaN</td>\n",
       "      <td>1.0</td>\n",
       "    </tr>\n",
       "    <tr>\n",
       "      <th>4</th>\n",
       "      <td>34.090368</td>\n",
       "      <td>-118.393064</td>\n",
       "      <td>{'type': 'Point', 'coordinates': [-118.393064,...</td>\n",
       "      <td>1.0</td>\n",
       "    </tr>\n",
       "  </tbody>\n",
       "</table>\n",
       "</div>"
      ],
      "text/plain": [
       "         lat         lng                                  oficina_principal  \\\n",
       "0  37.692934 -121.904945  {'type': 'Point', 'coordinates': [-121.904945,...   \n",
       "1  47.603122 -122.333253  {'type': 'Point', 'coordinates': [-122.333253,...   \n",
       "2  37.692934 -121.904945  {'type': 'Point', 'coordinates': [-121.904945,...   \n",
       "3        NaN         NaN                                                NaN   \n",
       "4  34.090368 -118.393064  {'type': 'Point', 'coordinates': [-118.393064,...   \n",
       "\n",
       "   totalOffices  \n",
       "0           1.0  \n",
       "1           2.0  \n",
       "2           1.0  \n",
       "3           1.0  \n",
       "4           1.0  "
      ]
     },
     "metadata": {},
     "output_type": "display_data"
    }
   ],
   "source": [
    "def getFirstOffice(data):\n",
    "    data = data['offices']\n",
    "    #Only create the geoJSON object if all geodata is available\n",
    "    principal = None\n",
    "    if data[0]['latitude'] and data[0]['longitude']:\n",
    "        principal = {\n",
    "            \"type\":\"Point\",\n",
    "            \"coordinates\":[data[0]['longitude'], data[0]['latitude']]\n",
    "        }\n",
    "    return {\n",
    "        \"totalOffices\": len(data),\n",
    "        \"lat\": data[0]['latitude'],\n",
    "        \"lng\": data[0]['longitude'],\n",
    "        \"oficina_principal\": principal\n",
    "    }\n",
    "\n",
    "\n",
    "first_office = one_office_df[[\"offices\"]].apply(getFirstOffice, result_type = \"expand\", axis = 1)\n",
    "print(first_office.shape)\n",
    "display(first_office.head())"
   ]
  },
  {
   "cell_type": "code",
   "execution_count": 8,
   "metadata": {},
   "outputs": [
    {
     "data": {
      "text/html": [
       "<div>\n",
       "<style scoped>\n",
       "    .dataframe tbody tr th:only-of-type {\n",
       "        vertical-align: middle;\n",
       "    }\n",
       "\n",
       "    .dataframe tbody tr th {\n",
       "        vertical-align: top;\n",
       "    }\n",
       "\n",
       "    .dataframe thead th {\n",
       "        text-align: right;\n",
       "    }\n",
       "</style>\n",
       "<table border=\"1\" class=\"dataframe\">\n",
       "  <thead>\n",
       "    <tr style=\"text-align: right;\">\n",
       "      <th></th>\n",
       "      <th>name</th>\n",
       "      <th>lat</th>\n",
       "      <th>lng</th>\n",
       "      <th>oficina_principal</th>\n",
       "      <th>totalOffices</th>\n",
       "    </tr>\n",
       "  </thead>\n",
       "  <tbody>\n",
       "    <tr>\n",
       "      <th>0</th>\n",
       "      <td>AdventNet</td>\n",
       "      <td>37.692934</td>\n",
       "      <td>-121.904945</td>\n",
       "      <td>{'type': 'Point', 'coordinates': [-121.904945,...</td>\n",
       "      <td>1.0</td>\n",
       "    </tr>\n",
       "    <tr>\n",
       "      <th>1</th>\n",
       "      <td>Wetpaint</td>\n",
       "      <td>47.603122</td>\n",
       "      <td>-122.333253</td>\n",
       "      <td>{'type': 'Point', 'coordinates': [-122.333253,...</td>\n",
       "      <td>2.0</td>\n",
       "    </tr>\n",
       "    <tr>\n",
       "      <th>2</th>\n",
       "      <td>Zoho</td>\n",
       "      <td>37.692934</td>\n",
       "      <td>-121.904945</td>\n",
       "      <td>{'type': 'Point', 'coordinates': [-121.904945,...</td>\n",
       "      <td>1.0</td>\n",
       "    </tr>\n",
       "    <tr>\n",
       "      <th>3</th>\n",
       "      <td>Omnidrive</td>\n",
       "      <td>NaN</td>\n",
       "      <td>NaN</td>\n",
       "      <td>NaN</td>\n",
       "      <td>1.0</td>\n",
       "    </tr>\n",
       "    <tr>\n",
       "      <th>4</th>\n",
       "      <td>Geni</td>\n",
       "      <td>34.090368</td>\n",
       "      <td>-118.393064</td>\n",
       "      <td>{'type': 'Point', 'coordinates': [-118.393064,...</td>\n",
       "      <td>1.0</td>\n",
       "    </tr>\n",
       "  </tbody>\n",
       "</table>\n",
       "</div>"
      ],
      "text/plain": [
       "        name        lat         lng  \\\n",
       "0  AdventNet  37.692934 -121.904945   \n",
       "1   Wetpaint  47.603122 -122.333253   \n",
       "2       Zoho  37.692934 -121.904945   \n",
       "3  Omnidrive        NaN         NaN   \n",
       "4       Geni  34.090368 -118.393064   \n",
       "\n",
       "                                   oficina_principal  totalOffices  \n",
       "0  {'type': 'Point', 'coordinates': [-121.904945,...           1.0  \n",
       "1  {'type': 'Point', 'coordinates': [-122.333253,...           2.0  \n",
       "2  {'type': 'Point', 'coordinates': [-121.904945,...           1.0  \n",
       "3                                                NaN           1.0  \n",
       "4  {'type': 'Point', 'coordinates': [-118.393064,...           1.0  "
      ]
     },
     "metadata": {},
     "output_type": "display_data"
    }
   ],
   "source": [
    "df_clean = pd.concat([one_office_df,first_office], axis=1)[[\"name\",\"lat\",\"lng\", \"oficina_principal\",\"totalOffices\"]]\n",
    "\n",
    "display(df_clean.head())\n"
   ]
  },
  {
   "cell_type": "code",
   "execution_count": 9,
   "metadata": {},
   "outputs": [],
   "source": [
    "def drop_null(df):\n",
    "    return df.dropna(axis=0)"
   ]
  },
  {
   "cell_type": "code",
   "execution_count": 10,
   "metadata": {},
   "outputs": [],
   "source": [
    "df_cleaned = df_clean.dropna()"
   ]
  },
  {
   "cell_type": "code",
   "execution_count": 11,
   "metadata": {},
   "outputs": [
    {
     "data": {
      "text/plain": [
       "(9618, 5)"
      ]
     },
     "execution_count": 11,
     "metadata": {},
     "output_type": "execute_result"
    }
   ],
   "source": [
    "df_cleaned.head()\n",
    "df_cleaned.shape\n"
   ]
  },
  {
   "cell_type": "code",
   "execution_count": null,
   "metadata": {},
   "outputs": [],
   "source": []
  }
 ],
 "metadata": {
  "kernelspec": {
   "display_name": "Python 3",
   "language": "python",
   "name": "python3"
  },
  "language_info": {
   "codemirror_mode": {
    "name": "ipython",
    "version": 3
   },
   "file_extension": ".py",
   "mimetype": "text/x-python",
   "name": "python",
   "nbconvert_exporter": "python",
   "pygments_lexer": "ipython3",
   "version": "3.6.8"
  }
 },
 "nbformat": 4,
 "nbformat_minor": 2
}

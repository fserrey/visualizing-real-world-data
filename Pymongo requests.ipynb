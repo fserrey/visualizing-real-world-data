{
 "cells": [
  {
   "cell_type": "code",
   "execution_count": 9,
   "metadata": {},
   "outputs": [],
   "source": [
    "import pandas as pd\n",
    "from pymongo import MongoClient\n",
    "\n",
    "client = MongoClient('mongodb://localhost:27017/')\n",
    "db = client.companies"
   ]
  },
  {
   "cell_type": "code",
   "execution_count": 18,
   "metadata": {},
   "outputs": [
    {
     "name": "stdout",
     "output_type": "stream",
     "text": [
      "(13744, 3)\n"
     ]
    },
    {
     "data": {
      "text/plain": [
       "Index(['_id', 'name', 'offices'], dtype='object')"
      ]
     },
     "execution_count": 18,
     "metadata": {},
     "output_type": "execute_result"
    }
   ],
   "source": [
    "#Starting consuting time on Mongo DB\n",
    "\n",
    "one_office = db.companies.find({    #Companies with at least 1 office\n",
    "    \"offices\":{\n",
    "        \"$not\":{\n",
    "            \"$size\":0\n",
    "        }\n",
    "    }\n",
    "},{\"name\":1, \"offices\":1})\n",
    "\n",
    "one_office_df = pd.DataFrame(one_office)\n",
    "#display(one_office_df)\n",
    "print(one_office_df.shape)\n",
    "one_office_df.columns\n"
   ]
  },
  {
   "cell_type": "code",
   "execution_count": null,
   "metadata": {},
   "outputs": [],
   "source": [
    "#Filtering with mongo\n",
    "\n",
    "{    \"$and\":[\n",
    "        {\"offices.latitude\": {\"$exists\": True}},\n",
    "        {\"offices.longitude\": {\"$exists\": True}},\n",
    "        {\"founded_year\": {\"$exists\": True}}, \n",
    "        {\"founded_year\": {\"$gte\": 2009}},\n",
    "        {\"category_code\": {\"$exists\": True}},\n",
    "        {\"total_money_raised\": {\"$exists\": True}},\n",
    "        {\"total_money_raised\": { \"$and\": [ \n",
    "                                    { \"$gte\": 1000000 }, \n",
    "                                    { <expression2> }, \n",
    "                                    { \"tags\": { \"$in\": [\"K\", \"M\"] } },\n",
    "                                ]\n",
    "                            },\n",
    "        {\"$or\": [                              {\"category_code\":\"games_video\"},\n",
    "                                               {\"category_code\":\"software\"},\n",
    "                                               {\"category_code\":\"web\"},\n",
    "                                               {\"category_code\":\"mobile\"},\n",
    "                                               {\"category_code\":\"photo_video\"},\n",
    "                                               {\"category_code\":\"ecommerce\"},\n",
    "                                               {\"category_code\":\"search\"},\n",
    "                                               {\"category_code\":\"network_hosting\"}\n",
    "{\"_id\": 0, \"category_code\": 1,\"founded_year\": 1, \"name\": 1, \n",
    "    \"number_of_employees\": 1, \"offices.country_code\": 1, \n",
    "    \"offices.latitude\": 1, \"offices.longitude\": 1, \"total_money_raised\": 1})\n",
    "\n",
    "\n",
    "{$and: [ {number_of_employees: { $lte: 1000 }}, {founded_year: { $lte: 2005 }}]}\n",
    "\n",
    "\n",
    "\n",
    "\n",
    "db.companies.find({    #Companies with at least 1 office\n",
    "    \"offices\":{\n",
    "        \"$not\":{\n",
    "            \"$size\":0\n",
    "        }\n",
    "    }\n",
    "},{\"name\":1, \"offices\":1}"
   ]
  },
  {
   "cell_type": "code",
   "execution_count": null,
   "metadata": {},
   "outputs": [],
   "source": [
    "({\"$and\": [{\"offices.latitude\": {\"$exists\": True}}, \n",
    "           {\"offices.latitude\": {\"$ne\": None}},\n",
    "           {\"offices.longitude\": {\"$exists\": True}}, \n",
    "           {\"offices.longitude\": {\"$ne\": None}},\n",
    "           {\"category_code\": {\"$exists\": True}}, \n",
    "           {\"category_code\": {\"$ne\": None}},\n",
    "           {\"number_of_employees\": {\"$exists\": True}}, \n",
    "           {\"number_of_employees\": {\"$ne\": None}},\n",
    "           {\"founded_year\": {\"$exists\": True}}, \n",
    "           {\"founded_year\": {\"$gte\": 2008}},\n",
    "           {\"deadpooled_year\": None},\n",
    "           {\"category_code\": {\"$ne\": \"other\"}}, \n",
    "           {\"category_code\": {\"$ne\": \"semiconductor\"}}, \n",
    "           {\"category_code\": {\"$ne\": \"finance\"}}, \n",
    "           {\"category_code\": {\"$ne\": \"medical\"}}, \n",
    "           {\"category_code\": {\"$ne\": \"health\"}}, \n",
    "           {\"category_code\": {\"$ne\": \"manufacturing\"}}, \n",
    "           {\"category_code\": {\"$ne\": \"real_estate\"}}, \n",
    "           {\"category_code\": {\"$ne\": \"fashion\"}}, \n",
    "           {\"category_code\": {\"$ne\": \"nanotech\"}}, \n",
    "           {\"category_code\": {\"$ne\": \"hospitality\"}}, \n",
    "           {\"category_code\": {\"$ne\": \"transportation\"}}, \n",
    "           {\"category_code\": {\"$ne\": \"local\"}}]}, \n",
    "                 {\"_id\": 0, \"category_code\": 1,\"founded_year\": 1, \"name\": 1, \n",
    "                    \"number_of_employees\": 1, \"offices.country_code\": 1, \n",
    "                    \"offices.latitude\": 1, \"offices.longitude\": 1, \"total_money_raised\": 1})"
   ]
  },
  {
   "cell_type": "code",
   "execution_count": 20,
   "metadata": {},
   "outputs": [
    {
     "name": "stdout",
     "output_type": "stream",
     "text": [
      "(13744, 4)\n"
     ]
    },
    {
     "data": {
      "text/html": [
       "<div>\n",
       "<style scoped>\n",
       "    .dataframe tbody tr th:only-of-type {\n",
       "        vertical-align: middle;\n",
       "    }\n",
       "\n",
       "    .dataframe tbody tr th {\n",
       "        vertical-align: top;\n",
       "    }\n",
       "\n",
       "    .dataframe thead th {\n",
       "        text-align: right;\n",
       "    }\n",
       "</style>\n",
       "<table border=\"1\" class=\"dataframe\">\n",
       "  <thead>\n",
       "    <tr style=\"text-align: right;\">\n",
       "      <th></th>\n",
       "      <th>lat</th>\n",
       "      <th>lng</th>\n",
       "      <th>oficina_principal</th>\n",
       "      <th>totalOffices</th>\n",
       "    </tr>\n",
       "  </thead>\n",
       "  <tbody>\n",
       "    <tr>\n",
       "      <th>0</th>\n",
       "      <td>37.692934</td>\n",
       "      <td>-121.904945</td>\n",
       "      <td>{'type': 'Point', 'coordinates': [-121.904945,...</td>\n",
       "      <td>1.0</td>\n",
       "    </tr>\n",
       "    <tr>\n",
       "      <th>1</th>\n",
       "      <td>47.603122</td>\n",
       "      <td>-122.333253</td>\n",
       "      <td>{'type': 'Point', 'coordinates': [-122.333253,...</td>\n",
       "      <td>2.0</td>\n",
       "    </tr>\n",
       "    <tr>\n",
       "      <th>2</th>\n",
       "      <td>37.692934</td>\n",
       "      <td>-121.904945</td>\n",
       "      <td>{'type': 'Point', 'coordinates': [-121.904945,...</td>\n",
       "      <td>1.0</td>\n",
       "    </tr>\n",
       "    <tr>\n",
       "      <th>3</th>\n",
       "      <td>NaN</td>\n",
       "      <td>NaN</td>\n",
       "      <td>NaN</td>\n",
       "      <td>1.0</td>\n",
       "    </tr>\n",
       "    <tr>\n",
       "      <th>4</th>\n",
       "      <td>34.090368</td>\n",
       "      <td>-118.393064</td>\n",
       "      <td>{'type': 'Point', 'coordinates': [-118.393064,...</td>\n",
       "      <td>1.0</td>\n",
       "    </tr>\n",
       "  </tbody>\n",
       "</table>\n",
       "</div>"
      ],
      "text/plain": [
       "         lat         lng                                  oficina_principal  \\\n",
       "0  37.692934 -121.904945  {'type': 'Point', 'coordinates': [-121.904945,...   \n",
       "1  47.603122 -122.333253  {'type': 'Point', 'coordinates': [-122.333253,...   \n",
       "2  37.692934 -121.904945  {'type': 'Point', 'coordinates': [-121.904945,...   \n",
       "3        NaN         NaN                                                NaN   \n",
       "4  34.090368 -118.393064  {'type': 'Point', 'coordinates': [-118.393064,...   \n",
       "\n",
       "   totalOffices  \n",
       "0           1.0  \n",
       "1           2.0  \n",
       "2           1.0  \n",
       "3           1.0  \n",
       "4           1.0  "
      ]
     },
     "metadata": {},
     "output_type": "display_data"
    }
   ],
   "source": [
    "def getFirstOffice(data):\n",
    "    data = data['offices']\n",
    "    #Only create the geoJSON object if all geodata is available\n",
    "    principal = None\n",
    "    if data[0]['latitude'] and data[0]['longitude']:\n",
    "        principal = {\n",
    "            \"type\":\"Point\",\n",
    "            \"coordinates\":[data[0]['longitude'], data[0]['latitude']]\n",
    "        }\n",
    "    return {\n",
    "        \"totalOffices\": len(data),\n",
    "        \"lat\": data[0]['latitude'],\n",
    "        \"lng\": data[0]['longitude'],\n",
    "        \"oficina_principal\": principal\n",
    "    }\n",
    "\n",
    "\n",
    "first_office = one_office_df[[\"offices\"]].apply(getFirstOffice, result_type = \"expand\", axis = 1)\n",
    "print(first_office.shape)\n",
    "display(first_office.head())"
   ]
  },
  {
   "cell_type": "code",
   "execution_count": 23,
   "metadata": {},
   "outputs": [
    {
     "data": {
      "text/html": [
       "<div>\n",
       "<style scoped>\n",
       "    .dataframe tbody tr th:only-of-type {\n",
       "        vertical-align: middle;\n",
       "    }\n",
       "\n",
       "    .dataframe tbody tr th {\n",
       "        vertical-align: top;\n",
       "    }\n",
       "\n",
       "    .dataframe thead th {\n",
       "        text-align: right;\n",
       "    }\n",
       "</style>\n",
       "<table border=\"1\" class=\"dataframe\">\n",
       "  <thead>\n",
       "    <tr style=\"text-align: right;\">\n",
       "      <th></th>\n",
       "      <th>name</th>\n",
       "      <th>lat</th>\n",
       "      <th>lng</th>\n",
       "      <th>oficina_principal</th>\n",
       "      <th>totalOffices</th>\n",
       "    </tr>\n",
       "  </thead>\n",
       "  <tbody>\n",
       "    <tr>\n",
       "      <th>0</th>\n",
       "      <td>AdventNet</td>\n",
       "      <td>37.692934</td>\n",
       "      <td>-121.904945</td>\n",
       "      <td>{'type': 'Point', 'coordinates': [-121.904945,...</td>\n",
       "      <td>1.0</td>\n",
       "    </tr>\n",
       "    <tr>\n",
       "      <th>1</th>\n",
       "      <td>Wetpaint</td>\n",
       "      <td>47.603122</td>\n",
       "      <td>-122.333253</td>\n",
       "      <td>{'type': 'Point', 'coordinates': [-122.333253,...</td>\n",
       "      <td>2.0</td>\n",
       "    </tr>\n",
       "    <tr>\n",
       "      <th>2</th>\n",
       "      <td>Zoho</td>\n",
       "      <td>37.692934</td>\n",
       "      <td>-121.904945</td>\n",
       "      <td>{'type': 'Point', 'coordinates': [-121.904945,...</td>\n",
       "      <td>1.0</td>\n",
       "    </tr>\n",
       "    <tr>\n",
       "      <th>3</th>\n",
       "      <td>Omnidrive</td>\n",
       "      <td>NaN</td>\n",
       "      <td>NaN</td>\n",
       "      <td>NaN</td>\n",
       "      <td>1.0</td>\n",
       "    </tr>\n",
       "    <tr>\n",
       "      <th>4</th>\n",
       "      <td>Geni</td>\n",
       "      <td>34.090368</td>\n",
       "      <td>-118.393064</td>\n",
       "      <td>{'type': 'Point', 'coordinates': [-118.393064,...</td>\n",
       "      <td>1.0</td>\n",
       "    </tr>\n",
       "  </tbody>\n",
       "</table>\n",
       "</div>"
      ],
      "text/plain": [
       "        name        lat         lng  \\\n",
       "0  AdventNet  37.692934 -121.904945   \n",
       "1   Wetpaint  47.603122 -122.333253   \n",
       "2       Zoho  37.692934 -121.904945   \n",
       "3  Omnidrive        NaN         NaN   \n",
       "4       Geni  34.090368 -118.393064   \n",
       "\n",
       "                                   oficina_principal  totalOffices  \n",
       "0  {'type': 'Point', 'coordinates': [-121.904945,...           1.0  \n",
       "1  {'type': 'Point', 'coordinates': [-122.333253,...           2.0  \n",
       "2  {'type': 'Point', 'coordinates': [-121.904945,...           1.0  \n",
       "3                                                NaN           1.0  \n",
       "4  {'type': 'Point', 'coordinates': [-118.393064,...           1.0  "
      ]
     },
     "metadata": {},
     "output_type": "display_data"
    }
   ],
   "source": [
    "df_clean = pd.concat([one_office_df,first_office], axis=1)[[\"name\",\"lat\",\"lng\", \"oficina_principal\",\"totalOffices\"]]\n",
    "\n",
    "display(df_clean.head())\n"
   ]
  },
  {
   "cell_type": "code",
   "execution_count": 50,
   "metadata": {},
   "outputs": [],
   "source": [
    "def drop_null(df):\n",
    "    return df.dropna(axis=0)"
   ]
  },
  {
   "cell_type": "code",
   "execution_count": 54,
   "metadata": {},
   "outputs": [],
   "source": [
    "df_cleaned = df_clean.dropna()"
   ]
  },
  {
   "cell_type": "code",
   "execution_count": 56,
   "metadata": {},
   "outputs": [
    {
     "data": {
      "text/plain": [
       "(9618, 5)"
      ]
     },
     "execution_count": 56,
     "metadata": {},
     "output_type": "execute_result"
    }
   ],
   "source": [
    "df_cleaned.head()\n",
    "df_cleaned.shape\n"
   ]
  },
  {
   "cell_type": "code",
   "execution_count": null,
   "metadata": {},
   "outputs": [],
   "source": []
  }
 ],
 "metadata": {
  "kernelspec": {
   "display_name": "Python 3",
   "language": "python",
   "name": "python3"
  },
  "language_info": {
   "codemirror_mode": {
    "name": "ipython",
    "version": 3
   },
   "file_extension": ".py",
   "mimetype": "text/x-python",
   "name": "python",
   "nbconvert_exporter": "python",
   "pygments_lexer": "ipython3",
   "version": "3.6.8"
  }
 },
 "nbformat": 4,
 "nbformat_minor": 2
}

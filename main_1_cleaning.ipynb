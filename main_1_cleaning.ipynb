{
 "cells": [
  {
   "cell_type": "code",
   "execution_count": 19,
   "metadata": {},
   "outputs": [],
   "source": [
    "import pandas as pd\n",
    "from pymongo import MongoClient\n",
    "from pandas.io.json import json_normalize\n",
    "import folium\n",
    "from folium.plugins import HeatMap\n",
    "\n",
    "client = MongoClient('mongodb://localhost:27017/')\n",
    "db = client.companies"
   ]
  },
  {
   "cell_type": "code",
   "execution_count": 2,
   "metadata": {},
   "outputs": [],
   "source": [
    "#Starting consuting time on Mongo DB"
   ]
  },
  {
   "cell_type": "code",
   "execution_count": null,
   "metadata": {},
   "outputs": [],
   "source": [
    "# We have some criteria when it comes to get the data from our database. The minimums are:\n",
    "# - There must be some nearby companies that also do design.\n",
    "# - Nobody in the company likes to have companies with more than 10 years in a radius of 2 KM.\n",
    "# - Developers like to be near successful tech startups with that have raised at least 1 Million dollars.\n",
    "# - Account managers need to travel a lot\n"
   ]
  },
  {
   "cell_type": "code",
   "execution_count": null,
   "metadata": {},
   "outputs": [],
   "source": [
    "# Filtering with mongo\n",
    "# Therefore, we ask mongodb (politetly) about some of the criteria we are considering.\n",
    " \n",
    "mongodata = db.companies.find( {\"$and\":[\n",
    "                                {\"offices.latitude\": {\"$exists\": True}},\n",
    "                                {\"offices.latitude\": {\"$ne\": None}},   \n",
    "                                {\"offices.longitude\": {\"$exists\": True}},\n",
    "                                {\"offices.longitude\": {\"$ne\": None}},\n",
    "                                {\"category_code\": {\"$exists\": True}},\n",
    "                                {\"category_code\": {\"$ne\": None}},   \n",
    "                                {\"founded_year\": {\"$exists\": True}}, \n",
    "                                {\"founded_year\": {\"$gte\": 2003}},\n",
    "                                {\"deadpooled_year\": None},\n",
    "                                {\"number_of_employees\": {\"$exists\": True}},\n",
    "                                {\"total_money_raised\": {\"$exists\": True}},\n",
    "                                {\"total_money_raised\":{\"$ne\":None}},\n",
    "                                {\"total_money_raised\": {\"$not\":{\"$size\":0}}}, \n",
    "                                {\"$or\": [\n",
    "                                {\"total_money_raised\": {\"$gte\": 1000000}},\n",
    "                                {\"category_code\":  \"design\" } ,\n",
    "                                {\"category_code\":  \"nanotech\" } , \n",
    "                                {\"category_code\":  \"web\" } , \n",
    "                                {\"category_code\":  \"software\" } , \n",
    "                                {\"category_code\":  \"games_video\" } , \n",
    "                                {\"category_code\":  \"mobile\" } , \n",
    "                                {\"category_code\":  \"ecommerce\" } ,\n",
    "                                {\"category_code\":  \"advertising\" } ,\n",
    "                                {\"category_code\":  \"enterprise\" } ,   \n",
    "                                {\"category_code\":  \"analytics\" } ,\n",
    "                                {'category_code':'search'},\n",
    "                                {'category_code':'network_hosting'} ,   \n",
    "                                {\"category_code\":  \"photo_video\" } ,   \n",
    "                                {\"category_code\":  \"biotech\" } ]} ,\n",
    "                                      \n",
    "                                ]\n",
    "                                },\n",
    "                                {\n",
    "                               \"_id\": 0, \"category_code\": 1,\"founded_year\": 1, \"name\": 1, \n",
    "                               \"offices.country_code\": 1, \"offices.latitude\": 1, \"offices.longitude\": 1, \n",
    "                                \"total_money_raised\": 1, \"number_of_employees\":1   \n",
    "                                }\n",
    "                            )\n"
   ]
  },
  {
   "cell_type": "code",
   "execution_count": 3,
   "metadata": {},
   "outputs": [],
   "source": [
    "# However, the serie \"offices\" it's a list with embed dicts. The serie contains information about location and number\n",
    "# of offices.\n",
    "# We use json_normalize to extract this information and normalize the serie"
   ]
  },
  {
   "cell_type": "code",
   "execution_count": 4,
   "metadata": {},
   "outputs": [],
   "source": [
    "ydataframe = json_normalize(data = mongodata, record_path = \"offices\", \n",
    "                             meta = [\"category_code\", \"founded_year\", \"name\",\n",
    "                                    \"total_money_raised\", \"number_of_employees\"])"
   ]
  },
  {
   "cell_type": "code",
   "execution_count": 5,
   "metadata": {},
   "outputs": [
    {
     "data": {
      "text/html": [
       "<div>\n",
       "<style scoped>\n",
       "    .dataframe tbody tr th:only-of-type {\n",
       "        vertical-align: middle;\n",
       "    }\n",
       "\n",
       "    .dataframe tbody tr th {\n",
       "        vertical-align: top;\n",
       "    }\n",
       "\n",
       "    .dataframe thead th {\n",
       "        text-align: right;\n",
       "    }\n",
       "</style>\n",
       "<table border=\"1\" class=\"dataframe\">\n",
       "  <thead>\n",
       "    <tr style=\"text-align: right;\">\n",
       "      <th></th>\n",
       "      <th>country_code</th>\n",
       "      <th>latitude</th>\n",
       "      <th>longitude</th>\n",
       "      <th>category_code</th>\n",
       "      <th>founded_year</th>\n",
       "      <th>name</th>\n",
       "      <th>total_money_raised</th>\n",
       "      <th>number_of_employees</th>\n",
       "    </tr>\n",
       "  </thead>\n",
       "  <tbody>\n",
       "    <tr>\n",
       "      <th>0</th>\n",
       "      <td>USA</td>\n",
       "      <td>34.090368</td>\n",
       "      <td>-118.393064</td>\n",
       "      <td>web</td>\n",
       "      <td>2006</td>\n",
       "      <td>Geni</td>\n",
       "      <td>$16.5M</td>\n",
       "      <td>18</td>\n",
       "    </tr>\n",
       "    <tr>\n",
       "      <th>1</th>\n",
       "      <td>USA</td>\n",
       "      <td>37.484130</td>\n",
       "      <td>-122.169472</td>\n",
       "      <td>web</td>\n",
       "      <td>2003</td>\n",
       "      <td>Gizmoz</td>\n",
       "      <td>$18.1M</td>\n",
       "      <td>None</td>\n",
       "    </tr>\n",
       "    <tr>\n",
       "      <th>2</th>\n",
       "      <td>USA</td>\n",
       "      <td>34.057498</td>\n",
       "      <td>-118.446596</td>\n",
       "      <td>mobile</td>\n",
       "      <td>2005</td>\n",
       "      <td>Helio</td>\n",
       "      <td>$0</td>\n",
       "      <td>None</td>\n",
       "    </tr>\n",
       "    <tr>\n",
       "      <th>3</th>\n",
       "      <td>USA</td>\n",
       "      <td>40.746497</td>\n",
       "      <td>-74.009447</td>\n",
       "      <td>games_video</td>\n",
       "      <td>2006</td>\n",
       "      <td>Joost</td>\n",
       "      <td>$45M</td>\n",
       "      <td>0</td>\n",
       "    </tr>\n",
       "    <tr>\n",
       "      <th>4</th>\n",
       "      <td>USA</td>\n",
       "      <td>37.778613</td>\n",
       "      <td>-122.395289</td>\n",
       "      <td>search</td>\n",
       "      <td>2006</td>\n",
       "      <td>Powerset</td>\n",
       "      <td>$22.5M</td>\n",
       "      <td>60</td>\n",
       "    </tr>\n",
       "  </tbody>\n",
       "</table>\n",
       "</div>"
      ],
      "text/plain": [
       "  country_code   latitude   longitude category_code  founded_year      name  \\\n",
       "0          USA  34.090368 -118.393064           web          2006      Geni   \n",
       "1          USA  37.484130 -122.169472           web          2003    Gizmoz   \n",
       "2          USA  34.057498 -118.446596        mobile          2005     Helio   \n",
       "3          USA  40.746497  -74.009447   games_video          2006     Joost   \n",
       "4          USA  37.778613 -122.395289        search          2006  Powerset   \n",
       "\n",
       "  total_money_raised number_of_employees  \n",
       "0             $16.5M                  18  \n",
       "1             $18.1M                None  \n",
       "2                 $0                None  \n",
       "3               $45M                   0  \n",
       "4             $22.5M                  60  "
      ]
     },
     "metadata": {},
     "output_type": "display_data"
    },
    {
     "name": "stdout",
     "output_type": "stream",
     "text": [
      "(4207, 8)\n",
      "Index(['country_code', 'latitude', 'longitude', 'category_code',\n",
      "       'founded_year', 'name', 'total_money_raised', 'number_of_employees'],\n",
      "      dtype='object')\n"
     ]
    }
   ],
   "source": [
    "display(ydataframe.head())\n",
    "print(ydataframe.shape)\n",
    "print(ydataframe.columns)"
   ]
  },
  {
   "cell_type": "code",
   "execution_count": 6,
   "metadata": {},
   "outputs": [
    {
     "data": {
      "text/html": [
       "<div>\n",
       "<style scoped>\n",
       "    .dataframe tbody tr th:only-of-type {\n",
       "        vertical-align: middle;\n",
       "    }\n",
       "\n",
       "    .dataframe tbody tr th {\n",
       "        vertical-align: top;\n",
       "    }\n",
       "\n",
       "    .dataframe thead th {\n",
       "        text-align: right;\n",
       "    }\n",
       "</style>\n",
       "<table border=\"1\" class=\"dataframe\">\n",
       "  <thead>\n",
       "    <tr style=\"text-align: right;\">\n",
       "      <th></th>\n",
       "      <th>country_code</th>\n",
       "      <th>name</th>\n",
       "      <th>founded_year</th>\n",
       "      <th>category_code</th>\n",
       "      <th>latitude</th>\n",
       "      <th>longitude</th>\n",
       "      <th>total_money_raised</th>\n",
       "      <th>number_of_employees</th>\n",
       "    </tr>\n",
       "  </thead>\n",
       "  <tbody>\n",
       "    <tr>\n",
       "      <th>0</th>\n",
       "      <td>USA</td>\n",
       "      <td>Geni</td>\n",
       "      <td>2006</td>\n",
       "      <td>web</td>\n",
       "      <td>34.090368</td>\n",
       "      <td>-118.393064</td>\n",
       "      <td>$16.5M</td>\n",
       "      <td>18</td>\n",
       "    </tr>\n",
       "    <tr>\n",
       "      <th>1</th>\n",
       "      <td>USA</td>\n",
       "      <td>Gizmoz</td>\n",
       "      <td>2003</td>\n",
       "      <td>web</td>\n",
       "      <td>37.484130</td>\n",
       "      <td>-122.169472</td>\n",
       "      <td>$18.1M</td>\n",
       "      <td>None</td>\n",
       "    </tr>\n",
       "    <tr>\n",
       "      <th>2</th>\n",
       "      <td>USA</td>\n",
       "      <td>Helio</td>\n",
       "      <td>2005</td>\n",
       "      <td>mobile</td>\n",
       "      <td>34.057498</td>\n",
       "      <td>-118.446596</td>\n",
       "      <td>$0</td>\n",
       "      <td>None</td>\n",
       "    </tr>\n",
       "    <tr>\n",
       "      <th>3</th>\n",
       "      <td>USA</td>\n",
       "      <td>Joost</td>\n",
       "      <td>2006</td>\n",
       "      <td>games_video</td>\n",
       "      <td>40.746497</td>\n",
       "      <td>-74.009447</td>\n",
       "      <td>$45M</td>\n",
       "      <td>0</td>\n",
       "    </tr>\n",
       "    <tr>\n",
       "      <th>4</th>\n",
       "      <td>USA</td>\n",
       "      <td>Powerset</td>\n",
       "      <td>2006</td>\n",
       "      <td>search</td>\n",
       "      <td>37.778613</td>\n",
       "      <td>-122.395289</td>\n",
       "      <td>$22.5M</td>\n",
       "      <td>60</td>\n",
       "    </tr>\n",
       "  </tbody>\n",
       "</table>\n",
       "</div>"
      ],
      "text/plain": [
       "  country_code      name  founded_year category_code   latitude   longitude  \\\n",
       "0          USA      Geni          2006           web  34.090368 -118.393064   \n",
       "1          USA    Gizmoz          2003           web  37.484130 -122.169472   \n",
       "2          USA     Helio          2005        mobile  34.057498 -118.446596   \n",
       "3          USA     Joost          2006   games_video  40.746497  -74.009447   \n",
       "4          USA  Powerset          2006        search  37.778613 -122.395289   \n",
       "\n",
       "  total_money_raised number_of_employees  \n",
       "0             $16.5M                  18  \n",
       "1             $18.1M                None  \n",
       "2                 $0                None  \n",
       "3               $45M                   0  \n",
       "4             $22.5M                  60  "
      ]
     },
     "metadata": {},
     "output_type": "display_data"
    }
   ],
   "source": [
    "# We reorder the columns distribution\n",
    "\n",
    "df = ydataframe.reindex(columns=['country_code', 'name', 'founded_year', 'category_code', 'latitude', 'longitude', \n",
    "                                 'total_money_raised', 'number_of_employees'])\n",
    "display(df.head())\n"
   ]
  },
  {
   "cell_type": "code",
   "execution_count": 8,
   "metadata": {},
   "outputs": [],
   "source": [
    "# With this, we create a new column with the number of offices per company.\n",
    "# As we can see, we have checked that the normalization of the previous column of \"offices\" has finished properly\n",
    "df[\"total_offices\"] = df[\"name\"].map(df[\"name\"].value_counts())"
   ]
  },
  {
   "cell_type": "code",
   "execution_count": 9,
   "metadata": {},
   "outputs": [
    {
     "data": {
      "text/html": [
       "<div>\n",
       "<style scoped>\n",
       "    .dataframe tbody tr th:only-of-type {\n",
       "        vertical-align: middle;\n",
       "    }\n",
       "\n",
       "    .dataframe tbody tr th {\n",
       "        vertical-align: top;\n",
       "    }\n",
       "\n",
       "    .dataframe thead th {\n",
       "        text-align: right;\n",
       "    }\n",
       "</style>\n",
       "<table border=\"1\" class=\"dataframe\">\n",
       "  <thead>\n",
       "    <tr style=\"text-align: right;\">\n",
       "      <th></th>\n",
       "      <th>country_code</th>\n",
       "      <th>name</th>\n",
       "      <th>founded_year</th>\n",
       "      <th>category_code</th>\n",
       "      <th>latitude</th>\n",
       "      <th>longitude</th>\n",
       "      <th>total_money_raised</th>\n",
       "      <th>number_of_employees</th>\n",
       "      <th>total_offices</th>\n",
       "    </tr>\n",
       "  </thead>\n",
       "  <tbody>\n",
       "    <tr>\n",
       "      <th>0</th>\n",
       "      <td>USA</td>\n",
       "      <td>Geni</td>\n",
       "      <td>2006</td>\n",
       "      <td>web</td>\n",
       "      <td>34.090368</td>\n",
       "      <td>-118.393064</td>\n",
       "      <td>$16.5M</td>\n",
       "      <td>18</td>\n",
       "      <td>1</td>\n",
       "    </tr>\n",
       "    <tr>\n",
       "      <th>1</th>\n",
       "      <td>USA</td>\n",
       "      <td>Gizmoz</td>\n",
       "      <td>2003</td>\n",
       "      <td>web</td>\n",
       "      <td>37.484130</td>\n",
       "      <td>-122.169472</td>\n",
       "      <td>$18.1M</td>\n",
       "      <td>None</td>\n",
       "      <td>1</td>\n",
       "    </tr>\n",
       "    <tr>\n",
       "      <th>2</th>\n",
       "      <td>USA</td>\n",
       "      <td>Helio</td>\n",
       "      <td>2005</td>\n",
       "      <td>mobile</td>\n",
       "      <td>34.057498</td>\n",
       "      <td>-118.446596</td>\n",
       "      <td>$0</td>\n",
       "      <td>None</td>\n",
       "      <td>1</td>\n",
       "    </tr>\n",
       "    <tr>\n",
       "      <th>3</th>\n",
       "      <td>USA</td>\n",
       "      <td>Joost</td>\n",
       "      <td>2006</td>\n",
       "      <td>games_video</td>\n",
       "      <td>40.746497</td>\n",
       "      <td>-74.009447</td>\n",
       "      <td>$45M</td>\n",
       "      <td>0</td>\n",
       "      <td>1</td>\n",
       "    </tr>\n",
       "    <tr>\n",
       "      <th>4</th>\n",
       "      <td>USA</td>\n",
       "      <td>Powerset</td>\n",
       "      <td>2006</td>\n",
       "      <td>search</td>\n",
       "      <td>37.778613</td>\n",
       "      <td>-122.395289</td>\n",
       "      <td>$22.5M</td>\n",
       "      <td>60</td>\n",
       "      <td>1</td>\n",
       "    </tr>\n",
       "  </tbody>\n",
       "</table>\n",
       "</div>"
      ],
      "text/plain": [
       "  country_code      name  founded_year category_code   latitude   longitude  \\\n",
       "0          USA      Geni          2006           web  34.090368 -118.393064   \n",
       "1          USA    Gizmoz          2003           web  37.484130 -122.169472   \n",
       "2          USA     Helio          2005        mobile  34.057498 -118.446596   \n",
       "3          USA     Joost          2006   games_video  40.746497  -74.009447   \n",
       "4          USA  Powerset          2006        search  37.778613 -122.395289   \n",
       "\n",
       "  total_money_raised number_of_employees  total_offices  \n",
       "0             $16.5M                  18              1  \n",
       "1             $18.1M                None              1  \n",
       "2                 $0                None              1  \n",
       "3               $45M                   0              1  \n",
       "4             $22.5M                  60              1  "
      ]
     },
     "metadata": {},
     "output_type": "display_data"
    },
    {
     "name": "stdout",
     "output_type": "stream",
     "text": [
      "(4207, 9)\n"
     ]
    }
   ],
   "source": [
    "display(df.head())\n",
    "print(df.shape)\n",
    "# On this stage, we've disclouse all the data inside \"offices\" and added another column with the number of offices for \n",
    "# each company. We have the coordinates of each office but need to proceed to generate geopoints."
   ]
  },
  {
   "cell_type": "code",
   "execution_count": 10,
   "metadata": {},
   "outputs": [],
   "source": [
    "def get_offices_locat2(lon, lat): # This function works on POINTS creation (for Mongodb)\n",
    "    offices_locat = {\n",
    "            \"type\":\"Point\",\n",
    "            \"coordinates\":[lon, lat]\n",
    "        }\n",
    "    return offices_locat\n",
    "\n",
    "#df.apply(lambda x: get_offices_locat2(x['longitude'], x['latitude']), axis=1)\n",
    "# With this function we apply the points coordinate conversion"
   ]
  },
  {
   "cell_type": "code",
   "execution_count": 11,
   "metadata": {},
   "outputs": [],
   "source": [
    "df[\"geoloc\"] = df.apply(lambda x: get_offices_locat2(x['longitude'], x['latitude']), axis=1)\n"
   ]
  },
  {
   "cell_type": "code",
   "execution_count": 12,
   "metadata": {},
   "outputs": [
    {
     "data": {
      "text/html": [
       "<div>\n",
       "<style scoped>\n",
       "    .dataframe tbody tr th:only-of-type {\n",
       "        vertical-align: middle;\n",
       "    }\n",
       "\n",
       "    .dataframe tbody tr th {\n",
       "        vertical-align: top;\n",
       "    }\n",
       "\n",
       "    .dataframe thead th {\n",
       "        text-align: right;\n",
       "    }\n",
       "</style>\n",
       "<table border=\"1\" class=\"dataframe\">\n",
       "  <thead>\n",
       "    <tr style=\"text-align: right;\">\n",
       "      <th></th>\n",
       "      <th>country_code</th>\n",
       "      <th>name</th>\n",
       "      <th>founded_year</th>\n",
       "      <th>category_code</th>\n",
       "      <th>latitude</th>\n",
       "      <th>longitude</th>\n",
       "      <th>total_money_raised</th>\n",
       "      <th>number_of_employees</th>\n",
       "      <th>total_offices</th>\n",
       "      <th>geoloc</th>\n",
       "    </tr>\n",
       "  </thead>\n",
       "  <tbody>\n",
       "    <tr>\n",
       "      <th>0</th>\n",
       "      <td>USA</td>\n",
       "      <td>Geni</td>\n",
       "      <td>2006</td>\n",
       "      <td>web</td>\n",
       "      <td>34.090368</td>\n",
       "      <td>-118.393064</td>\n",
       "      <td>$16.5M</td>\n",
       "      <td>18</td>\n",
       "      <td>1</td>\n",
       "      <td>{'type': 'Point', 'coordinates': [-118.393064,...</td>\n",
       "    </tr>\n",
       "    <tr>\n",
       "      <th>1</th>\n",
       "      <td>USA</td>\n",
       "      <td>Gizmoz</td>\n",
       "      <td>2003</td>\n",
       "      <td>web</td>\n",
       "      <td>37.484130</td>\n",
       "      <td>-122.169472</td>\n",
       "      <td>$18.1M</td>\n",
       "      <td>None</td>\n",
       "      <td>1</td>\n",
       "      <td>{'type': 'Point', 'coordinates': [-122.169472,...</td>\n",
       "    </tr>\n",
       "    <tr>\n",
       "      <th>2</th>\n",
       "      <td>USA</td>\n",
       "      <td>Helio</td>\n",
       "      <td>2005</td>\n",
       "      <td>mobile</td>\n",
       "      <td>34.057498</td>\n",
       "      <td>-118.446596</td>\n",
       "      <td>$0</td>\n",
       "      <td>None</td>\n",
       "      <td>1</td>\n",
       "      <td>{'type': 'Point', 'coordinates': [-118.446596,...</td>\n",
       "    </tr>\n",
       "    <tr>\n",
       "      <th>3</th>\n",
       "      <td>USA</td>\n",
       "      <td>Joost</td>\n",
       "      <td>2006</td>\n",
       "      <td>games_video</td>\n",
       "      <td>40.746497</td>\n",
       "      <td>-74.009447</td>\n",
       "      <td>$45M</td>\n",
       "      <td>0</td>\n",
       "      <td>1</td>\n",
       "      <td>{'type': 'Point', 'coordinates': [-74.0094471,...</td>\n",
       "    </tr>\n",
       "    <tr>\n",
       "      <th>4</th>\n",
       "      <td>USA</td>\n",
       "      <td>Powerset</td>\n",
       "      <td>2006</td>\n",
       "      <td>search</td>\n",
       "      <td>37.778613</td>\n",
       "      <td>-122.395289</td>\n",
       "      <td>$22.5M</td>\n",
       "      <td>60</td>\n",
       "      <td>1</td>\n",
       "      <td>{'type': 'Point', 'coordinates': [-122.395289,...</td>\n",
       "    </tr>\n",
       "  </tbody>\n",
       "</table>\n",
       "</div>"
      ],
      "text/plain": [
       "  country_code      name  founded_year category_code   latitude   longitude  \\\n",
       "0          USA      Geni          2006           web  34.090368 -118.393064   \n",
       "1          USA    Gizmoz          2003           web  37.484130 -122.169472   \n",
       "2          USA     Helio          2005        mobile  34.057498 -118.446596   \n",
       "3          USA     Joost          2006   games_video  40.746497  -74.009447   \n",
       "4          USA  Powerset          2006        search  37.778613 -122.395289   \n",
       "\n",
       "  total_money_raised number_of_employees  total_offices  \\\n",
       "0             $16.5M                  18              1   \n",
       "1             $18.1M                None              1   \n",
       "2                 $0                None              1   \n",
       "3               $45M                   0              1   \n",
       "4             $22.5M                  60              1   \n",
       "\n",
       "                                              geoloc  \n",
       "0  {'type': 'Point', 'coordinates': [-118.393064,...  \n",
       "1  {'type': 'Point', 'coordinates': [-122.169472,...  \n",
       "2  {'type': 'Point', 'coordinates': [-118.446596,...  \n",
       "3  {'type': 'Point', 'coordinates': [-74.0094471,...  \n",
       "4  {'type': 'Point', 'coordinates': [-122.395289,...  "
      ]
     },
     "metadata": {},
     "output_type": "display_data"
    },
    {
     "name": "stdout",
     "output_type": "stream",
     "text": [
      "(4207, 10)\n"
     ]
    }
   ],
   "source": [
    "display(df.head())\n",
    "print(df.shape)"
   ]
  },
  {
   "cell_type": "code",
   "execution_count": 13,
   "metadata": {},
   "outputs": [
    {
     "name": "stdout",
     "output_type": "stream",
     "text": [
      "(4207, 10)\n"
     ]
    }
   ],
   "source": [
    "# Now, we clean the column number_of_employees to fill NaN values \n",
    "\n",
    "df[\"number_of_employees\"].fillna(0, inplace = True)\n",
    "df[\"number_of_employees\"] =  df[\"number_of_employees\"].fillna(0.0).astype(int)\n",
    "print(df.shape)"
   ]
  },
  {
   "cell_type": "code",
   "execution_count": 14,
   "metadata": {},
   "outputs": [],
   "source": [
    "# Then, we select values on this column above 50, so we filter using this variable (we need to remeber that we are \n",
    "# pursuing companies with dynamic teams and lot of activity)\n",
    "df = df[df[\"number_of_employees\"]>50]\n"
   ]
  },
  {
   "cell_type": "code",
   "execution_count": 17,
   "metadata": {},
   "outputs": [
    {
     "data": {
      "text/plain": [
       "$91.5M    1\n",
       "$40.3M    1\n",
       "$18.4M    1\n",
       "$39.3M    1\n",
       "$1M       1\n",
       "Name: total_money_raised, dtype: int64"
      ]
     },
     "execution_count": 17,
     "metadata": {},
     "output_type": "execute_result"
    }
   ],
   "source": [
    "# Also, we have been asked for the value of the company as a condition, therefore:\n",
    "df = df[df.total_money_raised != \"$0\"]\n",
    "\n",
    "\n",
    "def capital_search (m):\n",
    "    money = { # We are only considering the money ponderated in $. We'll filter amount-wise.\n",
    "        \"$\":1, \"M\":2, \"k\":3, \"K\":4, \"B\":5\n",
    "    }\n",
    "    for key, numero in money.items(): \n",
    "        if key in m: \n",
    "            return m\n",
    "    return None\n",
    "\n",
    "\n",
    "df[\"total_money_raised\"] = df[\"total_money_raised\"].apply(capital_search)\n",
    "df[\"total_money_raised\"].value_counts().tail()\n"
   ]
  },
  {
   "cell_type": "code",
   "execution_count": 18,
   "metadata": {},
   "outputs": [
    {
     "data": {
      "text/plain": [
       "(239, 10)"
      ]
     },
     "execution_count": 18,
     "metadata": {},
     "output_type": "execute_result"
    }
   ],
   "source": [
    "# So, our DF changed a bit:\n",
    "df.shape"
   ]
  },
  {
   "cell_type": "code",
   "execution_count": 16,
   "metadata": {},
   "outputs": [
    {
     "data": {
      "text/plain": [
       "software           51\n",
       "advertising        49\n",
       "enterprise         40\n",
       "web                35\n",
       "games_video        15\n",
       "analytics          11\n",
       "ecommerce          11\n",
       "mobile              8\n",
       "network_hosting     8\n",
       "search              6\n",
       "design              3\n",
       "photo_video         1\n",
       "biotech             1\n",
       "Name: category_code, dtype: int64"
      ]
     },
     "execution_count": 16,
     "metadata": {},
     "output_type": "execute_result"
    }
   ],
   "source": [
    "# Let's check now how many companies (by category_code) we have left\n",
    "df[\"category_code\"].value_counts()"
   ]
  },
  {
   "cell_type": "code",
   "execution_count": 24,
   "metadata": {},
   "outputs": [],
   "source": [
    "# Just for the purpose of see where are more companies with the conditions we have established, we paint a map:\n",
    "\n",
    "for_map = df.copy()\n",
    "\n",
    "def hotspots(col_lat, col_lon): #insert values as (df[col_lat], df[col_lon])\n",
    "    statmad = for_map[['latitude', 'longitude']]\n",
    "    statmadlist = statmad.as_matrix()\n",
    "    statmap = folium.Map(zoom_start=16) \n",
    "    statmap.add_children(HeatMap(statmadlist, radius=15))\n",
    "    return statmap    "
   ]
  },
  {
   "cell_type": "code",
   "execution_count": 25,
   "metadata": {},
   "outputs": [
    {
     "name": "stderr",
     "output_type": "stream",
     "text": [
      "/home/slimbook/.local/lib/python3.6/site-packages/ipykernel_launcher.py:7: FutureWarning: Method .as_matrix will be removed in a future version. Use .values instead.\n",
      "  import sys\n",
      "/home/slimbook/.local/lib/python3.6/site-packages/ipykernel_launcher.py:9: FutureWarning: Method `add_children` is deprecated. Please use `add_child` instead.\n",
      "  if __name__ == '__main__':\n"
     ]
    },
    {
     "data": {
      "text/html": [
       "<div style=\"width:100%;\"><div style=\"position:relative;width:100%;height:0;padding-bottom:60%;\"><iframe src=\"data:text/html;charset=utf-8;base64,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\" style=\"position:absolute;width:100%;height:100%;left:0;top:0;border:none !important;\" allowfullscreen webkitallowfullscreen mozallowfullscreen></iframe></div></div>"
      ],
      "text/plain": [
       "<folium.folium.Map at 0x7fbf249b3080>"
      ]
     },
     "execution_count": 25,
     "metadata": {},
     "output_type": "execute_result"
    }
   ],
   "source": [
    "# As we can see, the majority of our companies are located in North America & Europe (such a surprise!)\n",
    "hotspots(for_map['latitude'], for_map['longitude'])"
   ]
  },
  {
   "cell_type": "code",
   "execution_count": null,
   "metadata": {},
   "outputs": [],
   "source": [
    "# Now we move to mongodb to find their proximity by launching geoqueries using its geopoints and the new index."
   ]
  },
  {
   "cell_type": "code",
   "execution_count": 26,
   "metadata": {},
   "outputs": [],
   "source": [
    "df.to_json('afines.json', orient=\"records\")"
   ]
  },
  {
   "cell_type": "code",
   "execution_count": null,
   "metadata": {},
   "outputs": [],
   "source": []
  },
  {
   "cell_type": "code",
   "execution_count": null,
   "metadata": {},
   "outputs": [],
   "source": []
  },
  {
   "cell_type": "code",
   "execution_count": null,
   "metadata": {},
   "outputs": [],
   "source": []
  },
  {
   "cell_type": "code",
   "execution_count": null,
   "metadata": {},
   "outputs": [],
   "source": []
  },
  {
   "cell_type": "code",
   "execution_count": null,
   "metadata": {},
   "outputs": [],
   "source": []
  }
 ],
 "metadata": {
  "kernelspec": {
   "display_name": "Python 3",
   "language": "python",
   "name": "python3"
  },
  "language_info": {
   "codemirror_mode": {
    "name": "ipython",
    "version": 3
   },
   "file_extension": ".py",
   "mimetype": "text/x-python",
   "name": "python",
   "nbconvert_exporter": "python",
   "pygments_lexer": "ipython3",
   "version": "3.7.3"
  }
 },
 "nbformat": 4,
 "nbformat_minor": 4
}
